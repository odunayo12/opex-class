{
 "cells": [
  {
   "attachments": {},
   "cell_type": "markdown",
   "metadata": {},
   "source": [
    "<!-- %pip install jupyterthemes\n",
    "from jupyterthemes import get_themes\n",
    "import jupyterthemes as jt\n",
    "from jupyterthemes.stylefx import set_nb_theme\n",
    "\n",
    "set_nb_theme('monkai') -->"
   ]
  },
  {
   "attachments": {},
   "cell_type": "markdown",
   "metadata": {
    "slideshow": {
     "slide_type": "slide"
    }
   },
   "source": [
    "# Introduction to Pandas\n"
   ]
  },
  {
   "attachments": {},
   "cell_type": "markdown",
   "metadata": {},
   "source": [
    "## Overview of Pandas\n",
    "`pandas` is a python library used for clean, explore, and process data. It best handles data that are in or can be converted into tabular format. \n",
    "\n",
    ">In pandas, a data table is called a `DataFrame`.\n"
   ]
  },
  {
   "attachments": {},
   "cell_type": "markdown",
   "metadata": {
    "slideshow": {
     "slide_type": "subslide"
    }
   },
   "source": [
    "\n",
    "## Why pandas and not others?\n",
    "- `pandas` has a large family of users around the world.\n",
    "- Easy to understand syntax (Less writing more work done).\n",
    "- Extensive set of features\n",
    "- Efficient in handling large dataset\n"
   ]
  },
  {
   "cell_type": "markdown",
   "metadata": {
    "slideshow": {
     "slide_type": "fragment"
    }
   },
   "source": [
    "- It is open-source: hence, not to be paid for."
   ]
  },
  {
   "cell_type": "code",
   "execution_count": 1,
   "metadata": {
    "slideshow": {
     "slide_type": "slide"
    }
   },
   "outputs": [],
   "source": [
    "# To activate base env: source \"C:/Users/X1 Carbon/anaconda3/Scripts/activate\"\n",
    "# To serve, cd to dir and do: jupyter nbconvert 'lesson_1_Introduction_To_Pandas.ipynb' --to slides --post serve\n",
    "a = 5"
   ]
  },
  {
   "cell_type": "code",
   "execution_count": 2,
   "metadata": {
    "slideshow": {
     "slide_type": "subslide"
    }
   },
   "outputs": [
    {
     "data": {
      "text/plain": [
       "5"
      ]
     },
     "execution_count": 2,
     "metadata": {},
     "output_type": "execute_result"
    }
   ],
   "source": [
    "a"
   ]
  },
  {
   "attachments": {},
   "cell_type": "markdown",
   "metadata": {},
   "source": [
    "## Installing Pandas"
   ]
  },
  {
   "attachments": {},
   "cell_type": "markdown",
   "metadata": {},
   "source": [
    "### Installation\n",
    "\n",
    "With a version of pyhton installed on your system, to use `pandas` on your PC. "
   ]
  },
  {
   "attachments": {},
   "cell_type": "markdown",
   "metadata": {},
   "source": [
    "On Command line interface (cli), do"
   ]
  },
  {
   "cell_type": "code",
   "execution_count": null,
   "metadata": {},
   "outputs": [],
   "source": [
    "pip install pandas"
   ]
  },
  {
   "attachments": {},
   "cell_type": "markdown",
   "metadata": {},
   "source": [
    "If using a jupyter notebook (that is, `<my_notebook>.ipynb`), do"
   ]
  },
  {
   "cell_type": "code",
   "execution_count": null,
   "metadata": {},
   "outputs": [],
   "source": [
    "%pip install pandas"
   ]
  },
  {
   "cell_type": "code",
   "execution_count": null,
   "metadata": {},
   "outputs": [],
   "source": []
  },
  {
   "attachments": {},
   "cell_type": "markdown",
   "metadata": {},
   "source": [
    "### Importing"
   ]
  },
  {
   "attachments": {},
   "cell_type": "markdown",
   "metadata": {},
   "source": [
    "Importing a library is to simply make a set of reusable fuctions or code, otherwise known as a library or module accessible for your use. "
   ]
  },
  {
   "attachments": {},
   "cell_type": "markdown",
   "metadata": {},
   "source": [
    "In what follows, `import` is a keyword, `pandas` is the module name and `as` tells the compiler that `pd` is an alias."
   ]
  },
  {
   "cell_type": "code",
   "execution_count": null,
   "metadata": {},
   "outputs": [],
   "source": [
    "import pandas as pd"
   ]
  },
  {
   "attachments": {},
   "cell_type": "markdown",
   "metadata": {},
   "source": []
  },
  {
   "attachments": {},
   "cell_type": "markdown",
   "metadata": {},
   "source": [
    "## Pandas Data Structure"
   ]
  },
  {
   "attachments": {},
   "cell_type": "markdown",
   "metadata": {},
   "source": [
    "### Dataframe"
   ]
  },
  {
   "attachments": {},
   "cell_type": "markdown",
   "metadata": {},
   "source": [
    "A  `DataFrame` is to `pandas` what a table or worksheet is to excel.\n",
    "\n",
    "- It is a collection of rows and columns (i.e. 2-dimensional Data Structure) \n",
    "- It can store columns whose data types are of characters, integers, floating point, scientific numerals...\n"
   ]
  },
  {
   "attachments": {},
   "cell_type": "markdown",
   "metadata": {},
   "source": [
    "Consider the table, named `attendess` below:\n",
    "\n",
    "| Name      \t| Age \t| Gender \t| Location \t|\n",
    "|-----------\t|-----\t|--------\t|----------\t|\n",
    "| Kate      \t| 32  \t| Male   \t| Benin    \t|\n",
    "| Lake      \t| 67  \t| Female \t| Lagos    \t|\n",
    "| Collins   \t| 7   \t| Male   \t| Kaduna   \t|\n",
    "| Celestine \t| 4   \t| Male   \t| Gboko    \t|\n",
    "| Debbie    \t| 6   \t| Female \t| Ibadan   \t|"
   ]
  },
  {
   "attachments": {},
   "cell_type": "markdown",
   "metadata": {},
   "source": [
    "- The table has 4 columns, each of them with a column label. The column labels are respectively `Name`, `Age`, `Gender`, and `Location`.\n",
    "- The columns `Name`, `Gender`, and `Location` are of textual or `character` data types, while `age` is numeric."
   ]
  },
  {
   "attachments": {},
   "cell_type": "markdown",
   "metadata": {},
   "source": [
    "### Series"
   ]
  },
  {
   "attachments": {},
   "cell_type": "markdown",
   "metadata": {},
   "source": [
    "Each column in a `DataFrame` is a `Series`. Say we are interested in the `Name` column of our `attendees` DataFrame. This subset makes up a `Series`."
   ]
  },
  {
   "attachments": {},
   "cell_type": "markdown",
   "metadata": {},
   "source": [
    "| Kate      \t|\n",
    "|-----------\t|\n",
    "| Lake      \t|\n",
    "| Collins   \t|\n",
    "| Celestine \t|\n",
    "| Debbie    \t|"
   ]
  },
  {
   "cell_type": "code",
   "execution_count": null,
   "metadata": {},
   "outputs": [],
   "source": []
  }
 ],
 "metadata": {
  "kernelspec": {
   "display_name": "base",
   "language": "python",
   "name": "python3"
  },
  "language_info": {
   "codemirror_mode": {
    "name": "ipython",
    "version": 3
   },
   "file_extension": ".py",
   "mimetype": "text/x-python",
   "name": "python",
   "nbconvert_exporter": "python",
   "pygments_lexer": "ipython3",
   "version": "3.8.16"
  },
  "orig_nbformat": 4
 },
 "nbformat": 4,
 "nbformat_minor": 2
}
